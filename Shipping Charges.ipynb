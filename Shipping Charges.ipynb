{
 "cells": [
  {
   "cell_type": "markdown",
   "metadata": {},
   "source": [
    "## Shipping Charges\n",
    "\n",
    "The Fast Freight Shipping Company charges the following rates:\n",
    "\n",
    "| Weight of Package | Rate per Pound (Dollar) | \n",
    "| ---- | ---- |\n",
    "| 2 pounds or less |  1.50 |\n",
    "| Over 2 pounds but not more than 6 pounds |  3.00 |\n",
    "| Over 6 pounds but not more than 10 pounds | 4.00 |\n",
    "| Over 10 pounds | 4.75 |\n",
    "\n",
    "Write a program that asks the user to enter the weight of a package and then displays the\n",
    "shipping charges."
   ]
  },
  {
   "cell_type": "code",
   "execution_count": 1,
   "metadata": {},
   "outputs": [
    {
     "name": "stdout",
     "output_type": "stream",
     "text": [
      "Enter the weight of the package in pounds: 34\n",
      "Shipping charge:  161.5\n"
     ]
    }
   ],
   "source": [
    "weight=float(input(\"Enter the weight of the package in pounds: \"))\n",
    "if weight<=2:\n",
    "    rate=1.5\n",
    "elif weight<=6:\n",
    "    rate=3\n",
    "elif weight<=10:\n",
    "    rate=4\n",
    "else:\n",
    "    rate=4.75\n",
    "\n",
    "shipping=weight*rate\n",
    "print(\"Shipping charge: \",shipping)"
   ]
  },
  {
   "cell_type": "code",
   "execution_count": null,
   "metadata": {},
   "outputs": [],
   "source": []
  }
 ],
 "metadata": {
  "kernelspec": {
   "display_name": "Python 3",
   "language": "python",
   "name": "python3"
  },
  "language_info": {
   "codemirror_mode": {
    "name": "ipython",
    "version": 3
   },
   "file_extension": ".py",
   "mimetype": "text/x-python",
   "name": "python",
   "nbconvert_exporter": "python",
   "pygments_lexer": "ipython3",
   "version": "3.7.6"
  }
 },
 "nbformat": 4,
 "nbformat_minor": 4
}
