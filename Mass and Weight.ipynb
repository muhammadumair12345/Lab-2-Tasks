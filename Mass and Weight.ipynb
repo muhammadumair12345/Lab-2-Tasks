{
 "cells": [
  {
   "cell_type": "markdown",
   "metadata": {},
   "source": [
    "## Mass and Weight\n",
    "\n",
    "Scientists measure an object’s mass in kilograms and its weight in newtons. If you know\n",
    "the amount of mass of an object in kilograms, you can calculate its weight in newtons with\n",
    "the following formula:\n",
    "**<center>weight = mass * 3 9.8</center>**\n",
    "Write a program that asks the user to enter an object’s mass, and then calculates its weight.\n",
    "If the object weighs more than 500 newtons, display a message indicating that it is too\n",
    "heavy. If the object weighs less than 100 newtons, display a message indicating that it is\n",
    "too light."
   ]
  },
  {
   "cell_type": "code",
   "execution_count": 3,
   "metadata": {},
   "outputs": [
    {
     "name": "stdout",
     "output_type": "stream",
     "text": [
      "What is the object's mass: 34\n",
      "Object's weight =  333.20000000000005\n",
      "Neither heavy or light.\n"
     ]
    }
   ],
   "source": [
    "weight=0.0\n",
    "\n",
    "mass=float(input(\"What is the object's mass: \"))\n",
    "weight = mass * 9.8\n",
    "\n",
    "print(\"Object's weight = \",weight)\n",
    "\n",
    "if weight >= 1000:\n",
    "    print(\"Too heavy.\");\n",
    "elif weight <= 10:\n",
    "    print(\"Too light.\");\n",
    "else:\n",
    "    print(\"Neither heavy or light.\");"
   ]
  },
  {
   "cell_type": "code",
   "execution_count": null,
   "metadata": {},
   "outputs": [],
   "source": []
  }
 ],
 "metadata": {
  "kernelspec": {
   "display_name": "Python 3",
   "language": "python",
   "name": "python3"
  },
  "language_info": {
   "codemirror_mode": {
    "name": "ipython",
    "version": 3
   },
   "file_extension": ".py",
   "mimetype": "text/x-python",
   "name": "python",
   "nbconvert_exporter": "python",
   "pygments_lexer": "ipython3",
   "version": "3.7.6"
  }
 },
 "nbformat": 4,
 "nbformat_minor": 4
}
