{
 "cells": [
  {
   "cell_type": "markdown",
   "metadata": {},
   "source": [
    "## Guess the Number\n",
    "Write a script that plays “guess the number.”\n",
    "Choose the number to be guessed by selecting a random integer in the\n",
    "range 1 to 1000. Do not reveal this number to the user. **Display the prompt\n",
    "\"Guess my number between 1 and 1000 with the fewest\n",
    "guesses:\"**. The player inputs a first guess. If the guess is incorrect,\n",
    "display **\"Too high. Try again.\"** or **\"Too low. Try again.\" ** as\n",
    "appropriate to help the player “zero in” on the correct answer, then prompt\n",
    "the user for the next guess. When the user enters the correct answer,\n",
    "display **\"Congratulations. You guessed the number!\"**, and\n",
    "allow the user to choose whether to play again."
   ]
  },
  {
   "cell_type": "code",
   "execution_count": null,
   "metadata": {},
   "outputs": [],
   "source": []
  }
 ],
 "metadata": {
  "kernelspec": {
   "display_name": "Python 3",
   "language": "python",
   "name": "python3"
  },
  "language_info": {
   "codemirror_mode": {
    "name": "ipython",
    "version": 3
   },
   "file_extension": ".py",
   "mimetype": "text/x-python",
   "name": "python",
   "nbconvert_exporter": "python",
   "pygments_lexer": "ipython3",
   "version": "3.7.6"
  }
 },
 "nbformat": 4,
 "nbformat_minor": 4
}
