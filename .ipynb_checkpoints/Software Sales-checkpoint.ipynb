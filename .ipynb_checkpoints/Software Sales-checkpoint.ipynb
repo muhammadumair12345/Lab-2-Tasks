{
 "cells": [
  {
   "cell_type": "markdown",
   "metadata": {},
   "source": [
    "## Software Sales\n",
    "A software company sells a package that retails for $99. Quantity discounts are given\n",
    "according to the following table:\n",
    "\n",
    "| Quantity | Discount | \n",
    "| --- | --- |\n",
    "| 10–19 | 10% |\n",
    "| 20–49 | 20% |\n",
    "| 50–99 | 30% |\n",
    "| 100 or more | 40%|\n",
    "\n",
    "Write a program that asks the user to enter the number of packages purchased. The program\n",
    "should then display the amount of the discount (if any) and the total amount of the\n",
    "purchase after the discount."
   ]
  },
  {
   "cell_type": "code",
   "execution_count": 2,
   "metadata": {},
   "outputs": [
    {
     "name": "stdout",
     "output_type": "stream",
     "text": [
      "Quantity purchased: 34\n",
      "Subtotal:  3366\n",
      "Discount:  673.2\n",
      "Total:  2692.8\n"
     ]
    }
   ],
   "source": [
    "retail_price=99\n",
    "quantity=int(input(\"Quantity purchased: \"))\n",
    "\n",
    "if quantity<10:\n",
    "    discount=0\n",
    "elif 10<=quantity and quantity<20:\n",
    "    discount=0.1\n",
    "elif 20<=quantity and quantity<50:\n",
    "    discount=0.2\n",
    "elif 50<=quantity and quantity<100:\n",
    "    discount=0.3\n",
    "else:\n",
    "    discount=0.4\n",
    "\n",
    "sub_total=retail_price*quantity\n",
    "total_discount=sub_total*discount\n",
    "total=sub_total-total_discount\n",
    "\n",
    "print(\"Subtotal: \",sub_total)\n",
    "print(\"Discount: \",total_discount)\n",
    "print(\"Total: \",total)"
   ]
  },
  {
   "cell_type": "code",
   "execution_count": null,
   "metadata": {},
   "outputs": [],
   "source": []
  }
 ],
 "metadata": {
  "kernelspec": {
   "display_name": "Python 3",
   "language": "python",
   "name": "python3"
  },
  "language_info": {
   "codemirror_mode": {
    "name": "ipython",
    "version": 3
   },
   "file_extension": ".py",
   "mimetype": "text/x-python",
   "name": "python",
   "nbconvert_exporter": "python",
   "pygments_lexer": "ipython3",
   "version": "3.7.6"
  }
 },
 "nbformat": 4,
 "nbformat_minor": 4
}
