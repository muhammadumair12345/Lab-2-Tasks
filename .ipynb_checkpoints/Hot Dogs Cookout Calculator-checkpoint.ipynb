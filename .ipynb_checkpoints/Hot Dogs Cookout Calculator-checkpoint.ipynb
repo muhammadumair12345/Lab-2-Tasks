{
 "cells": [
  {
   "cell_type": "markdown",
   "metadata": {},
   "source": [
    "## Hot Dogs Cookout Calculator\n",
    "Assume that hot dogs come in packages of 10, and hot dog buns come in packages of 8.\n",
    "Write a program that calculates the number of packages of hot dogs and the number of\n",
    "packages of hot dog buns needed for a cookout, with the minimum amount of leftovers.\n",
    "The program should ask the user for the number of people attending the cookout and the\n",
    "number of hot dogs each person will be given. The program should display the following\n",
    "details:\n",
    "* The minimum number of packages of hot dogs required\n",
    "* The minimum number of packages of hot dog buns required\n",
    "* The number of hot dogs that will be left over\n",
    "* The number of hot dog buns that will be left over"
   ]
  },
  {
   "cell_type": "code",
   "execution_count": 2,
   "metadata": {},
   "outputs": [
    {
     "name": "stdout",
     "output_type": "stream",
     "text": [
      "Enter the number of people attending the cookout: 3\n",
      "Enter the number of hot dogs for each person: 4\n",
      "Minimum packages of hot dogs needed:  2\n",
      "Minimum packages of hot dog buns needed:  2\n",
      "Hot dogs left over:  8\n",
      "Hot dog buns left over:  4\n"
     ]
    }
   ],
   "source": [
    "hotdog_pack = 10\n",
    "hotdog_bun_pack = 8\n",
    "\n",
    "people_attending = int(input('Enter the number of people attending the cookout: '))\n",
    "hotdogs_per_person = int(input('Enter the number of hot dogs for each person: '))\n",
    "\n",
    "hotdogs_needed = people_attending * hotdogs_per_person\n",
    "\n",
    "hotdog_packs_needed, hotdogs_leftover = divmod(hotdogs_needed, hotdog_pack)\n",
    "hotdog_bun_packs_needed, hotdog_buns_leftover = divmod(hotdogs_needed, hotdog_bun_pack)\n",
    "\n",
    "if hotdogs_leftover:\n",
    "    hotdog_packs_needed += 1\n",
    "    hotdogs_leftover = hotdog_pack - hotdogs_leftover\n",
    "\n",
    "if hotdog_buns_leftover:\n",
    "    hotdog_bun_packs_needed += 1\n",
    "    hotdog_buns_leftover = hotdog_bun_pack - hotdog_buns_leftover\n",
    "\n",
    "print('Minimum packages of hot dogs needed: ', hotdog_packs_needed)\n",
    "print('Minimum packages of hot dog buns needed: ', hotdog_bun_packs_needed)\n",
    "print('Hot dogs left over: ', hotdogs_leftover)\n",
    "print('Hot dog buns left over: ', hotdog_buns_leftover)\n",
    "\n"
   ]
  },
  {
   "cell_type": "code",
   "execution_count": null,
   "metadata": {},
   "outputs": [],
   "source": []
  }
 ],
 "metadata": {
  "kernelspec": {
   "display_name": "Python 3",
   "language": "python",
   "name": "python3"
  },
  "language_info": {
   "codemirror_mode": {
    "name": "ipython",
    "version": 3
   },
   "file_extension": ".py",
   "mimetype": "text/x-python",
   "name": "python",
   "nbconvert_exporter": "python",
   "pygments_lexer": "ipython3",
   "version": "3.7.6"
  }
 },
 "nbformat": 4,
 "nbformat_minor": 4
}
