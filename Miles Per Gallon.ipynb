{
 "cells": [
  {
   "cell_type": "markdown",
   "metadata": {},
   "source": [
    "## Miles Per Gallon\n",
    "\n",
    "Drivers are concerned with the mileage obtained\n",
    "by their automobiles. One driver has kept track of several tankfuls of\n",
    "gasoline by recording miles driven and gallons used for each tankful.\n",
    "Develop a sentinel-controlled-repetition script that prompts the user to\n",
    "input the miles driven and gallons used for each tankful. The script should\n",
    "calculate and display the miles per gallon obtained for each tankful. After\n",
    "processing all input information, the script should calculate and display\n",
    "the combined miles per gallon obtained for all tankfuls (that is, total miles\n",
    "driven divided by total gallons used).\n",
    "\n",
    "* Enter the gallons used (-1 to end): 12.8\n",
    "* Enter the miles driven: 287\n",
    "* The miles/gallon for this tank was 22.421875\n",
    "* Enter the gallons used (-1 to end): 10.3\n",
    "* Enter the miles driven: 200\n",
    "* The miles/gallon for this tank was 19.417475\n",
    "* Enter the gallons used (-1 to end): 5\n",
    "* Enter the miles driven: 120\n",
    "* The miles/gallon for this tank was 24.000000\n",
    "* Enter the gallons used (-1 to end): -1\n",
    "* The overall average miles/gallon was 21.601423"
   ]
  },
  {
   "cell_type": "code",
   "execution_count": null,
   "metadata": {},
   "outputs": [],
   "source": [
    "  gallons=miles=tankAverage=overallAverage=0.0\n",
    "  counter=total=0\n",
    "\n",
    "  while gallons!=-1:\n",
    "    gallons=float(input(\"Enter the gallons used, (-1 to end): \"))\n",
    "    if gallons == -1:\n",
    "        overallAverage = total / counter\n",
    "        print( \"The overall average miles/gallon was \", overallAverage );\n",
    "    miles=float(input(\"Enter the miles driven: \"))\n",
    "    tankAverage = miles / gallons;\n",
    "    print( \"The miles per gallon for this tank was \", tankAverage );\n",
    "    total += tankAverage;\n",
    "    counter += 1;"
   ]
  },
  {
   "cell_type": "code",
   "execution_count": null,
   "metadata": {},
   "outputs": [],
   "source": []
  }
 ],
 "metadata": {
  "kernelspec": {
   "display_name": "Python 3",
   "language": "python",
   "name": "python3"
  },
  "language_info": {
   "codemirror_mode": {
    "name": "ipython",
    "version": 3
   },
   "file_extension": ".py",
   "mimetype": "text/x-python",
   "name": "python",
   "nbconvert_exporter": "python",
   "pygments_lexer": "ipython3",
   "version": "3.7.6"
  }
 },
 "nbformat": 4,
 "nbformat_minor": 4
}
