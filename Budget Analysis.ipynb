{
 "cells": [
  {
   "cell_type": "markdown",
   "metadata": {},
   "source": [
    "## Budget Analysis\n",
    "Write a program that asks the user to enter the amount that he or she has budgeted for\n",
    "a month. A loop should then prompt the user to enter each of his or her expenses for the\n",
    "month and keep a running total. When the loop finishes, the program should display the\n",
    "amount that the user is over or under budget."
   ]
  },
  {
   "cell_type": "code",
   "execution_count": 3,
   "metadata": {},
   "outputs": [
    {
     "name": "stdout",
     "output_type": "stream",
     "text": [
      "Enter the amount budgeted for this month: 45\n",
      "How many expenses do you have? 3\n",
      "Enter expense #1: 2\n",
      "Enter expense #2: 3\n",
      "Enter expense #3: 3\n",
      "You are under budget by $ 37.0\n"
     ]
    }
   ],
   "source": [
    "expense_total=0.0;\n",
    "\n",
    "budget_amount=float(input(\"Enter the amount budgeted for this month: \"))\n",
    "num_of_expenses=int(input(\"How many expenses do you have? \"));\n",
    "\n",
    "for i in range (0, num_of_expenses):\n",
    "    expense=float(input(\"Enter expense #\" + str(i + 1) + \": \"));\n",
    "    expense_total += expense;\n",
    "\n",
    "budget_result = budget_amount - expense_total;\n",
    "\n",
    "if expense_total > budget_amount:\n",
    "    print(\"You are over budget by $\",budget_result)\n",
    "elif expense_total < budget_amount:\n",
    "    print(\"You are under budget by $\",budget_result);\n",
    "elif expense_total == budget_amount:\n",
    "    print(\"Your budget is 0 based.\");"
   ]
  },
  {
   "cell_type": "code",
   "execution_count": null,
   "metadata": {},
   "outputs": [],
   "source": []
  }
 ],
 "metadata": {
  "kernelspec": {
   "display_name": "Python 3",
   "language": "python",
   "name": "python3"
  },
  "language_info": {
   "codemirror_mode": {
    "name": "ipython",
    "version": 3
   },
   "file_extension": ".py",
   "mimetype": "text/x-python",
   "name": "python",
   "nbconvert_exporter": "python",
   "pygments_lexer": "ipython3",
   "version": "3.7.6"
  }
 },
 "nbformat": 4,
 "nbformat_minor": 4
}
