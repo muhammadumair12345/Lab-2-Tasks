{
 "cells": [
  {
   "cell_type": "markdown",
   "metadata": {},
   "source": [
    "## Body Mass Index\n",
    "\n",
    "Write a program that calculates and displays a person’s body mass index (BMI). The BMI\n",
    "is often used to determine whether a person is overweight or underweight for his or her\n",
    "height. A person’s BMI is calculated with the following formula:\n",
    "\n",
    "\n",
    "**<center>BMI = weight * 703 / height^2</center>**\n",
    "\n",
    "where weight is measured in pounds and height is measured in inches. The program\n",
    "should ask the user to enter his or her weight and height and then display the user’s BMI.\n",
    "The program should also display a message indicating whether the person has optimal\n",
    "weight, is underweight, or is overweight. A person’s weight is considered to be optimal\n",
    "if his or her BMI is between 18.5 and 25. If the BMI is less than 18.5, the person is considered\n",
    "to be underweight. If the BMI value is greater than 25, the person is considered\n",
    "to be overweight."
   ]
  },
  {
   "cell_type": "code",
   "execution_count": 4,
   "metadata": {},
   "outputs": [
    {
     "name": "stdout",
     "output_type": "stream",
     "text": [
      "Enter weight in pounds: 45\n",
      "Enter height in inches: 3\n",
      "You are overweight\n"
     ]
    }
   ],
   "source": [
    "weight=float(input(\"Enter weight in pounds: \"))\n",
    "height=float(input(\"Enter height in inches: \"))\n",
    "\n",
    "bmi = weight * 703 / (height*height);\n",
    "\n",
    "if bmi <= 18.5:\n",
    "    print(\"You are underweight\")\n",
    "elif bmi > 18.5 and bmi <= 25:\n",
    "    print(\"Your weight is optimal\")\n",
    "else:\n",
    "    print(\"You are overweight\")\n"
   ]
  }
 ],
 "metadata": {
  "kernelspec": {
   "display_name": "Python 3",
   "language": "python",
   "name": "python3"
  },
  "language_info": {
   "codemirror_mode": {
    "name": "ipython",
    "version": 3
   },
   "file_extension": ".py",
   "mimetype": "text/x-python",
   "name": "python",
   "nbconvert_exporter": "python",
   "pygments_lexer": "ipython3",
   "version": "3.7.6"
  }
 },
 "nbformat": 4,
 "nbformat_minor": 4
}
