{
 "cells": [
  {
   "cell_type": "markdown",
   "metadata": {},
   "source": [
    "## Population\n",
    "Write a program that predicts the approximate size of a population of organisms. The\n",
    "application should allow the user to enter the starting number of organisms,\n",
    "the average daily population increase (as a percentage), and the number of days the\n",
    "organisms will be left to multiply. For example, assume the user enters the following values:\n",
    "\n",
    "Starting number of organisms: 2\n",
    "\n",
    "Average daily increase: 30%\n",
    "\n",
    "Number of days to multiply: 10\n",
    "\n",
    "The program should display the following table of data:\n",
    "\n",
    "| Day Approximate | Population |\n",
    "| --- | --- |\n",
    "| 1 | 2 |\n",
    "| 2 | 2.6 |\n",
    "| 3 | 3.38 |\n",
    "| 4 | 4.394 |\n",
    "| 5 | 5.7122 |\n",
    "|6 | 7.42586 |\n",
    "|7 | 9.653619 |\n",
    "|8 | 12.5497 |\n",
    "|9 | 16.31462 |\n",
    "|10 | 21.209 |"
   ]
  },
  {
   "cell_type": "code",
   "execution_count": 1,
   "metadata": {},
   "outputs": [
    {
     "name": "stdout",
     "output_type": "stream",
     "text": [
      "Enter the starting population of the organisms: 6\n",
      "Enter the average daily increase percentage: 8\n",
      "Enter the number of days the population will multiply: 4\n",
      "Day ApproximatePopulation\n",
      "1 6\n",
      "2 6.48\n",
      "3 6.998400000000001\n",
      "4 7.558272000000001\n"
     ]
    }
   ],
   "source": [
    "initial_population=int(input(\"Enter the starting population of the organisms: \"))\n",
    "percent_increase=float(input(\"Enter the average daily increase percentage: \"))\n",
    "num_of_days=int(input(\"Enter the number of days the population will multiply: \"))\n",
    "print(\"Day Approximate\"+\"Population\")\n",
    "for day in range(1, num_of_days+1):\n",
    "    if day==1:\n",
    "        population=initial_population\n",
    "    else:\n",
    "        population*=(1+percent_increase/100)\n",
    "    print(day,population)"
   ]
  },
  {
   "cell_type": "code",
   "execution_count": null,
   "metadata": {},
   "outputs": [],
   "source": []
  }
 ],
 "metadata": {
  "kernelspec": {
   "display_name": "Python 3",
   "language": "python",
   "name": "python3"
  },
  "language_info": {
   "codemirror_mode": {
    "name": "ipython",
    "version": 3
   },
   "file_extension": ".py",
   "mimetype": "text/x-python",
   "name": "python",
   "nbconvert_exporter": "python",
   "pygments_lexer": "ipython3",
   "version": "3.7.6"
  }
 },
 "nbformat": 4,
 "nbformat_minor": 4
}
