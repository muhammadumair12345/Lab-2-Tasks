{
 "cells": [
  {
   "cell_type": "markdown",
   "metadata": {},
   "source": [
    "## Average Rainfall\n",
    "Write a program that uses nested loops to collect data and calculate the average rainfall\n",
    "over a period of years. The program should first ask for the number of years. The outer loop\n",
    "will iterate once for each year. The inner loop will iterate twelve times, once for each month.\n",
    "Each iteration of the inner loop will ask the user for the inches of rainfall for that month.\n",
    "After all iterations, the program should display the number of months, the total inches of\n",
    "rainfall, and the average rainfall per month for the entire period."
   ]
  },
  {
   "cell_type": "code",
   "execution_count": null,
   "metadata": {},
   "outputs": [],
   "source": [
    "num_of_years=int(input(\"Enter the number of years: \"))\n",
    "rainfall=0\n",
    "\n",
    "for years in range(1, num_of_years+1):\n",
    "    for month in range(1, 13):\n",
    "        inches=float(input(\"Enter the number of inches of rainfall for month \"+str(month)+\" of year \"+str(years)+\": \"))\n",
    "        rainfall+=inches\n",
    "        \n",
    "num_of_months=num_of_years*12\n",
    "average_rainfall=rainfall/num_of_months\n",
    "        \n",
    "print(\"Total amount of rain is: \",rainfall,\"inches\")\n",
    "print(\"Average rain fall per month is: \",average_rainfall,\"inches\")"
   ]
  }
 ],
 "metadata": {
  "kernelspec": {
   "display_name": "Python 3",
   "language": "python",
   "name": "python3"
  },
  "language_info": {
   "codemirror_mode": {
    "name": "ipython",
    "version": 3
   },
   "file_extension": ".py",
   "mimetype": "text/x-python",
   "name": "python",
   "nbconvert_exporter": "python",
   "pygments_lexer": "ipython3",
   "version": "3.7.6"
  }
 },
 "nbformat": 4,
 "nbformat_minor": 4
}
